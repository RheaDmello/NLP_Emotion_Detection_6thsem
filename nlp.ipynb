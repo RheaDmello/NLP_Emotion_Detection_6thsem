{
 "cells": [
  {
   "cell_type": "code",
   "execution_count": 8,
   "metadata": {},
   "outputs": [
    {
     "name": "stdout",
     "output_type": "stream",
     "text": [
      "Dataset Sample:\n",
      "                                                text  label\n",
      "0  im feeling rather rotten so im not very ambiti...      0\n",
      "1          im updating my blog because i feel shitty      0\n",
      "2  i never make her separate from me because i do...      0\n",
      "3  i left with my bouquet of red and yellow tulip...      1\n",
      "4    i was feeling a little vain when i did this one      0\n",
      "\n",
      "Class Distribution:\n",
      "label\n",
      "1    695\n",
      "0    581\n",
      "3    275\n",
      "4    224\n",
      "2    159\n",
      "5     66\n",
      "Name: count, dtype: int64\n"
     ]
    }
   ],
   "source": [
    "# Import necessary libraries\n",
    "import pandas as pd\n",
    "\n",
    "# Load dataset\n",
    "file_path = 'test.csv'\n",
    "df = pd.read_csv(file_path)\n",
    "\n",
    "# Display dataset information\n",
    "print(\"Dataset Sample:\")\n",
    "print(df.head())\n",
    "\n",
    "print(\"\\nClass Distribution:\")\n",
    "print(df['label'].value_counts())\n"
   ]
  },
  {
   "cell_type": "code",
   "execution_count": 9,
   "metadata": {},
   "outputs": [
    {
     "name": "stderr",
     "output_type": "stream",
     "text": [
      "[nltk_data] Downloading package stopwords to C:\\Users\\Rhea\n",
      "[nltk_data]     Dmello\\AppData\\Roaming\\nltk_data...\n",
      "[nltk_data]   Package stopwords is already up-to-date!\n",
      "[nltk_data] Downloading package wordnet to C:\\Users\\Rhea\n",
      "[nltk_data]     Dmello\\AppData\\Roaming\\nltk_data...\n",
      "[nltk_data]   Package wordnet is already up-to-date!\n"
     ]
    }
   ],
   "source": [
    "# Import necessary NLP libraries\n",
    "import re\n",
    "import nltk\n",
    "from nltk.corpus import stopwords\n",
    "from nltk.stem import WordNetLemmatizer\n",
    "\n",
    "# Download necessary NLTK resources\n",
    "nltk.download('stopwords')\n",
    "nltk.download('wordnet')\n",
    "\n",
    "# Define text cleaning function\n",
    "def clean_text(text):\n",
    "    text = re.sub(r'http\\S+', '', text)  # Remove URLs\n",
    "    text = re.sub(r'[^a-zA-Z]', ' ', text)  # Remove special characters and numbers\n",
    "    text = text.lower()  # Convert to lowercase\n",
    "    text = text.split()  # Tokenize words\n",
    "    lemmatizer = WordNetLemmatizer()\n",
    "    text = [lemmatizer.lemmatize(word) for word in text if word not in set(stopwords.words('english'))]\n",
    "    return ' '.join(text)\n",
    "\n",
    "# Apply cleaning to the dataset\n",
    "df['cleaned_text'] = df['text'].apply(clean_text)\n"
   ]
  },
  {
   "cell_type": "code",
   "execution_count": 10,
   "metadata": {},
   "outputs": [
    {
     "name": "stdout",
     "output_type": "stream",
     "text": [
      "\n",
      "Label Encoding Mapping:\n",
      "0: 0\n",
      "1: 1\n",
      "2: 2\n",
      "3: 3\n",
      "4: 4\n",
      "5: 5\n"
     ]
    }
   ],
   "source": [
    "from sklearn.preprocessing import LabelEncoder\n",
    "\n",
    "# Encode target labels\n",
    "label_encoder = LabelEncoder()\n",
    "df['encoded_label'] = label_encoder.fit_transform(df['label'])\n",
    "\n",
    "# Display label encoding mapping\n",
    "print(\"\\nLabel Encoding Mapping:\")\n",
    "for label, encoded in zip(label_encoder.classes_, range(len(label_encoder.classes_))):\n",
    "    print(f\"{label}: {encoded}\")\n"
   ]
  },
  {
   "cell_type": "code",
   "execution_count": 11,
   "metadata": {},
   "outputs": [
    {
     "name": "stdout",
     "output_type": "stream",
     "text": [
      "\n",
      "Training Samples: 1600, Testing Samples: 400\n"
     ]
    }
   ],
   "source": [
    "from sklearn.model_selection import train_test_split\n",
    "\n",
    "# Split data into training and testing sets\n",
    "X_train, X_test, y_train, y_test = train_test_split(\n",
    "    df['cleaned_text'], df['encoded_label'], test_size=0.2, random_state=42\n",
    ")\n",
    "\n",
    "print(f\"\\nTraining Samples: {len(X_train)}, Testing Samples: {len(X_test)}\")\n"
   ]
  },
  {
   "cell_type": "code",
   "execution_count": 12,
   "metadata": {},
   "outputs": [
    {
     "name": "stdout",
     "output_type": "stream",
     "text": [
      "\n",
      "TF-IDF Vectorization Complete!\n",
      "Feature Shape: (1600, 5000)\n"
     ]
    }
   ],
   "source": [
    "from sklearn.feature_extraction.text import TfidfVectorizer\n",
    "\n",
    "# Initialize TF-IDF Vectorizer with bigrams\n",
    "vectorizer = TfidfVectorizer(ngram_range=(1, 2), max_features=5000)  # Using unigrams and bigrams\n",
    "X_train_tfidf = vectorizer.fit_transform(X_train).toarray()\n",
    "X_test_tfidf = vectorizer.transform(X_test).toarray()\n",
    "\n",
    "# Print shape of the feature matrix\n",
    "print(\"\\nTF-IDF Vectorization Complete!\")\n",
    "print(f\"Feature Shape: {X_train_tfidf.shape}\")\n"
   ]
  },
  {
   "cell_type": "code",
   "execution_count": 13,
   "metadata": {},
   "outputs": [
    {
     "name": "stdout",
     "output_type": "stream",
     "text": [
      "\n",
      "Logistic Regression Model Trained!\n"
     ]
    }
   ],
   "source": [
    "from sklearn.linear_model import LogisticRegression\n",
    "\n",
    "# Train Logistic Regression model\n",
    "lr_model = LogisticRegression(max_iter=1000)\n",
    "lr_model.fit(X_train_tfidf, y_train)\n",
    "\n",
    "print(\"\\nLogistic Regression Model Trained!\")\n"
   ]
  },
  {
   "cell_type": "code",
   "execution_count": 14,
   "metadata": {},
   "outputs": [
    {
     "name": "stdout",
     "output_type": "stream",
     "text": [
      "\n",
      "Logistic Regression Evaluation:\n",
      "              precision    recall  f1-score   support\n",
      "\n",
      "           0       0.69      0.81      0.74       124\n",
      "           1       0.56      0.97      0.71       131\n",
      "           2       1.00      0.03      0.06        35\n",
      "           3       0.92      0.23      0.37        52\n",
      "           4       0.87      0.30      0.45        43\n",
      "           5       0.00      0.00      0.00        15\n",
      "\n",
      "    accuracy                           0.63       400\n",
      "   macro avg       0.67      0.39      0.39       400\n",
      "weighted avg       0.70      0.63      0.56       400\n",
      "\n",
      "Accuracy: 0.6325\n"
     ]
    },
    {
     "name": "stderr",
     "output_type": "stream",
     "text": [
      "C:\\Users\\Rhea Dmello\\AppData\\Roaming\\Python\\Python312\\site-packages\\sklearn\\metrics\\_classification.py:1509: UndefinedMetricWarning: Precision is ill-defined and being set to 0.0 in labels with no predicted samples. Use `zero_division` parameter to control this behavior.\n",
      "  _warn_prf(average, modifier, f\"{metric.capitalize()} is\", len(result))\n",
      "C:\\Users\\Rhea Dmello\\AppData\\Roaming\\Python\\Python312\\site-packages\\sklearn\\metrics\\_classification.py:1509: UndefinedMetricWarning: Precision is ill-defined and being set to 0.0 in labels with no predicted samples. Use `zero_division` parameter to control this behavior.\n",
      "  _warn_prf(average, modifier, f\"{metric.capitalize()} is\", len(result))\n",
      "C:\\Users\\Rhea Dmello\\AppData\\Roaming\\Python\\Python312\\site-packages\\sklearn\\metrics\\_classification.py:1509: UndefinedMetricWarning: Precision is ill-defined and being set to 0.0 in labels with no predicted samples. Use `zero_division` parameter to control this behavior.\n",
      "  _warn_prf(average, modifier, f\"{metric.capitalize()} is\", len(result))\n"
     ]
    }
   ],
   "source": [
    "from sklearn.metrics import classification_report, accuracy_score\n",
    "\n",
    "# Predict on test data\n",
    "y_pred_lr = lr_model.predict(X_test_tfidf)\n",
    "\n",
    "# Evaluate performance\n",
    "print(\"\\nLogistic Regression Evaluation:\")\n",
    "print(classification_report(y_test, y_pred_lr))\n",
    "print(\"Accuracy:\", accuracy_score(y_test, y_pred_lr))\n"
   ]
  },
  {
   "cell_type": "code",
   "execution_count": 15,
   "metadata": {},
   "outputs": [
    {
     "data": {
      "image/png": "[encoded data removed]",
      "text/plain": [
       "<Figure size 640x480 with 2 Axes>"
      ]
     },
     "metadata": {},
     "output_type": "display_data"
    }
   ],
   "source": [
    "import seaborn as sns\n",
    "import matplotlib.pyplot as plt\n",
    "from sklearn.metrics import confusion_matrix\n",
    "\n",
    "# Plot confusion matrix\n",
    "conf_matrix = confusion_matrix(y_test, y_pred_lr)\n",
    "sns.heatmap(conf_matrix, annot=True, fmt='d', cmap='Blues',\n",
    "            xticklabels=label_encoder.classes_, yticklabels=label_encoder.classes_)\n",
    "plt.title(\"Confusion Matrix - Logistic Regression\")\n",
    "plt.xlabel(\"Predicted\")\n",
    "plt.ylabel(\"Actual\")\n",
    "plt.show()\n"
   ]
  },
  {
   "cell_type": "code",
   "execution_count": 17,
   "metadata": {},
   "outputs": [
    {
     "name": "stdout",
     "output_type": "stream",
     "text": [
      "Defaulting to user installation because normal site-packages is not writeable\n",
      "Collecting streamlit\n",
      "  Downloading streamlit-1.42.0-py2.py3-none-any.whl.metadata (8.9 kB)\n",
      "Collecting altair<6,>=4.0 (from streamlit)\n",
      "  Downloading altair-5.5.0-py3-none-any.whl.metadata (11 kB)\n",
      "Collecting blinker<2,>=1.0.0 (from streamlit)\n",
      "  Downloading blinker-1.9.0-py3-none-any.whl.metadata (1.6 kB)\n",
      "Collecting cachetools<6,>=4.0 (from streamlit)\n",
      "  Downloading cachetools-5.5.1-py3-none-any.whl.metadata (5.4 kB)\n",
      "Requirement already satisfied: click<9,>=7.0 in c:\\users\\rhea dmello\\appdata\\roaming\\python\\python312\\site-packages (from streamlit) (8.1.8)\n",
      "Requirement already satisfied: numpy<3,>=1.23 in c:\\users\\rhea dmello\\appdata\\roaming\\python\\python312\\site-packages (from streamlit) (1.26.4)\n",
      "Requirement already satisfied: packaging<25,>=20 in c:\\users\\rhea dmello\\appdata\\roaming\\python\\python312\\site-packages (from streamlit) (24.0)\n",
      "Requirement already satisfied: pandas<3,>=1.4.0 in c:\\users\\rhea dmello\\appdata\\roaming\\python\\python312\\site-packages (from streamlit) (2.2.1)\n",
      "Requirement already satisfied: pillow<12,>=7.1.0 in c:\\users\\rhea dmello\\appdata\\roaming\\python\\python312\\site-packages (from streamlit) (10.2.0)\n",
      "Requirement already satisfied: protobuf<6,>=3.20 in c:\\users\\rhea dmello\\appdata\\roaming\\python\\python312\\site-packages (from streamlit) (4.25.3)\n",
      "Collecting pyarrow>=7.0 (from streamlit)\n",
      "  Downloading pyarrow-19.0.0-cp312-cp312-win_amd64.whl.metadata (3.4 kB)\n",
      "Requirement already satisfied: requests<3,>=2.27 in c:\\users\\rhea dmello\\appdata\\roaming\\python\\python312\\site-packages (from streamlit) (2.31.0)\n",
      "Requirement already satisfied: rich<14,>=10.14.0 in c:\\users\\rhea dmello\\appdata\\roaming\\python\\python312\\site-packages (from streamlit) (13.7.1)\n",
      "Collecting tenacity<10,>=8.1.0 (from streamlit)\n",
      "  Downloading tenacity-9.0.0-py3-none-any.whl.metadata (1.2 kB)\n",
      "Collecting toml<2,>=0.10.1 (from streamlit)\n",
      "  Downloading toml-0.10.2-py2.py3-none-any.whl.metadata (7.1 kB)\n",
      "Requirement already satisfied: typing-extensions<5,>=4.4.0 in c:\\users\\rhea dmello\\appdata\\roaming\\python\\python312\\site-packages (from streamlit) (4.10.0)\n",
      "Collecting watchdog<7,>=2.1.5 (from streamlit)\n",
      "  Downloading watchdog-6.0.0-py3-none-win_amd64.whl.metadata (44 kB)\n",
      "     ---------------------------------------- 0.0/44.3 kB ? eta -:--:--\n",
      "     ---------------------------------------- 44.3/44.3 kB 1.1 MB/s eta 0:00:00\n",
      "Collecting gitpython!=3.1.19,<4,>=3.0.7 (from streamlit)\n",
      "  Downloading GitPython-3.1.44-py3-none-any.whl.metadata (13 kB)\n",
      "Collecting pydeck<1,>=0.8.0b4 (from streamlit)\n",
      "  Downloading pydeck-0.9.1-py2.py3-none-any.whl.metadata (4.1 kB)\n",
      "Requirement already satisfied: tornado<7,>=6.0.3 in c:\\users\\rhea dmello\\appdata\\roaming\\python\\python312\\site-packages (from streamlit) (6.4.1)\n",
      "Requirement already satisfied: jinja2 in c:\\users\\rhea dmello\\appdata\\roaming\\python\\python312\\site-packages (from altair<6,>=4.0->streamlit) (3.1.4)\n",
      "Requirement already satisfied: jsonschema>=3.0 in c:\\users\\rhea dmello\\appdata\\roaming\\python\\python312\\site-packages (from altair<6,>=4.0->streamlit) (4.23.0)\n",
      "Collecting narwhals>=1.14.2 (from altair<6,>=4.0->streamlit)\n",
      "  Downloading narwhals-1.25.2-py3-none-any.whl.metadata (10 kB)\n",
      "Requirement already satisfied: colorama in c:\\users\\rhea dmello\\appdata\\roaming\\python\\python312\\site-packages (from click<9,>=7.0->streamlit) (0.4.6)\n",
      "Collecting gitdb<5,>=4.0.1 (from gitpython!=3.1.19,<4,>=3.0.7->streamlit)\n",
      "  Downloading gitdb-4.0.12-py3-none-any.whl.metadata (1.2 kB)\n",
      "Requirement already satisfied: python-dateutil>=2.8.2 in c:\\users\\rhea dmello\\appdata\\roaming\\python\\python312\\site-packages (from pandas<3,>=1.4.0->streamlit) (2.9.0.post0)\n",
      "Requirement already satisfied: pytz>=2020.1 in c:\\users\\rhea dmello\\appdata\\roaming\\python\\python312\\site-packages (from pandas<3,>=1.4.0->streamlit) (2024.1)\n",
      "Requirement already satisfied: tzdata>=2022.7 in c:\\users\\rhea dmello\\appdata\\roaming\\python\\python312\\site-packages (from pandas<3,>=1.4.0->streamlit) (2024.1)\n",
      "Requirement already satisfied: charset-normalizer<4,>=2 in c:\\users\\rhea dmello\\appdata\\roaming\\python\\python312\\site-packages (from requests<3,>=2.27->streamlit) (3.3.2)\n",
      "Requirement already satisfied: idna<4,>=2.5 in c:\\users\\rhea dmello\\appdata\\roaming\\python\\python312\\site-packages (from requests<3,>=2.27->streamlit) (3.6)\n",
      "Requirement already satisfied: urllib3<3,>=1.21.1 in c:\\users\\rhea dmello\\appdata\\roaming\\python\\python312\\site-packages (from requests<3,>=2.27->streamlit) (2.2.1)\n",
      "Requirement already satisfied: certifi>=2017.4.17 in c:\\users\\rhea dmello\\appdata\\roaming\\python\\python312\\site-packages (from requests<3,>=2.27->streamlit) (2024.2.2)\n",
      "Requirement already satisfied: markdown-it-py>=2.2.0 in c:\\users\\rhea dmello\\appdata\\roaming\\python\\python312\\site-packages (from rich<14,>=10.14.0->streamlit) (3.0.0)\n",
      "Requirement already satisfied: pygments<3.0.0,>=2.13.0 in c:\\users\\rhea dmello\\appdata\\roaming\\python\\python312\\site-packages (from rich<14,>=10.14.0->streamlit) (2.17.2)\n",
      "Collecting smmap<6,>=3.0.1 (from gitdb<5,>=4.0.1->gitpython!=3.1.19,<4,>=3.0.7->streamlit)\n",
      "  Downloading smmap-5.0.2-py3-none-any.whl.metadata (4.3 kB)\n",
      "Requirement already satisfied: MarkupSafe>=2.0 in c:\\users\\rhea dmello\\appdata\\roaming\\python\\python312\\site-packages (from jinja2->altair<6,>=4.0->streamlit) (2.1.5)\n",
      "Requirement already satisfied: attrs>=22.2.0 in c:\\users\\rhea dmello\\appdata\\roaming\\python\\python312\\site-packages (from jsonschema>=3.0->altair<6,>=4.0->streamlit) (23.2.0)\n",
      "Requirement already satisfied: jsonschema-specifications>=2023.03.6 in c:\\users\\rhea dmello\\appdata\\roaming\\python\\python312\\site-packages (from jsonschema>=3.0->altair<6,>=4.0->streamlit) (2023.12.1)\n",
      "Requirement already satisfied: referencing>=0.28.4 in c:\\users\\rhea dmello\\appdata\\roaming\\python\\python312\\site-packages (from jsonschema>=3.0->altair<6,>=4.0->streamlit) (0.35.1)\n",
      "Requirement already satisfied: rpds-py>=0.7.1 in c:\\users\\rhea dmello\\appdata\\roaming\\python\\python312\\site-packages (from jsonschema>=3.0->altair<6,>=4.0->streamlit) (0.19.0)\n",
      "Requirement already satisfied: mdurl~=0.1 in c:\\users\\rhea dmello\\appdata\\roaming\\python\\python312\\site-packages (from markdown-it-py>=2.2.0->rich<14,>=10.14.0->streamlit) (0.1.2)\n",
      "Requirement already satisfied: six>=1.5 in c:\\users\\rhea dmello\\appdata\\roaming\\python\\python312\\site-packages (from python-dateutil>=2.8.2->pandas<3,>=1.4.0->streamlit) (1.16.0)\n",
      "Downloading streamlit-1.42.0-py2.py3-none-any.whl (9.6 MB)\n",
      "   ---------------------------------------- 0.0/9.6 MB ? eta -:--:--\n",
      "    --------------------------------------- 0.2/9.6 MB 7.3 MB/s eta 0:00:02\n",
      "   ---- ----------------------------------- 1.0/9.6 MB 11.0 MB/s eta 0:00:01\n",
      "   --------- ------------------------------ 2.3/9.6 MB 16.4 MB/s eta 0:00:01\n",
      "   ---------------- ----------------------- 4.0/9.6 MB 19.7 MB/s eta 0:00:01\n",
      "   ------------------------ --------------- 5.8/9.6 MB 23.3 MB/s eta 0:00:01\n",
      "   ----------------------------- ---------- 7.0/9.6 MB 25.0 MB/s eta 0:00:01\n",
      "   --------------------------------- ------ 8.0/9.6 MB 23.1 MB/s eta 0:00:01\n",
      "   ---------------------------------------  9.6/9.6 MB 26.6 MB/s eta 0:00:01\n",
      "   ---------------------------------------- 9.6/9.6 MB 24.4 MB/s eta 0:00:00\n",
      "Downloading altair-5.5.0-py3-none-any.whl (731 kB)\n",
      "   ---------------------------------------- 0.0/731.2 kB ? eta -:--:--\n",
      "   --------------------------------------- 731.2/731.2 kB 22.5 MB/s eta 0:00:00\n",
      "Downloading blinker-1.9.0-py3-none-any.whl (8.5 kB)\n",
      "Downloading cachetools-5.5.1-py3-none-any.whl (9.5 kB)\n",
      "Downloading GitPython-3.1.44-py3-none-any.whl (207 kB)\n",
      "   ---------------------------------------- 0.0/207.6 kB ? eta -:--:--\n",
      "   ---------------------------------------- 207.6/207.6 kB ? eta 0:00:00\n",
      "Downloading pyarrow-19.0.0-cp312-cp312-win_amd64.whl (25.2 MB)\n",
      "   ---------------------------------------- 0.0/25.2 MB ? eta -:--:--\n",
      "   -- ------------------------------------- 1.6/25.2 MB 33.1 MB/s eta 0:00:01\n",
      "   ----- ---------------------------------- 3.5/25.2 MB 45.2 MB/s eta 0:00:01\n",
      "   ------- -------------------------------- 4.5/25.2 MB 32.2 MB/s eta 0:00:01\n",
      "   ------- -------------------------------- 5.0/25.2 MB 26.7 MB/s eta 0:00:01\n",
      "   --------- ------------------------------ 5.7/25.2 MB 24.4 MB/s eta 0:00:01\n",
      "   --------- ------------------------------ 6.1/25.2 MB 21.7 MB/s eta 0:00:01\n",
      "   ---------- ----------------------------- 6.5/25.2 MB 19.6 MB/s eta 0:00:01\n",
      "   ---------- ----------------------------- 6.7/25.2 MB 17.1 MB/s eta 0:00:02\n",
      "   ---------- ----------------------------- 6.9/25.2 MB 15.8 MB/s eta 0:00:02\n",
      "   ----------- ---------------------------- 7.2/25.2 MB 14.8 MB/s eta 0:00:02\n",
      "   ----------- ---------------------------- 7.4/25.2 MB 13.9 MB/s eta 0:00:02\n",
      "   ------------ --------------------------- 7.7/25.2 MB 13.3 MB/s eta 0:00:02\n",
      "   ------------ --------------------------- 7.9/25.2 MB 12.3 MB/s eta 0:00:02\n",
      "   ------------ --------------------------- 8.2/25.2 MB 11.9 MB/s eta 0:00:02\n",
      "   ------------- -------------------------- 8.4/25.2 MB 11.5 MB/s eta 0:00:02\n",
      "   ------------- -------------------------- 8.7/25.2 MB 11.1 MB/s eta 0:00:02\n",
      "   -------------- ------------------------- 8.9/25.2 MB 10.8 MB/s eta 0:00:02\n",
      "   -------------- ------------------------- 9.2/25.2 MB 10.5 MB/s eta 0:00:02\n",
      "   --------------- ------------------------ 9.5/25.2 MB 10.3 MB/s eta 0:00:02\n",
      "   --------------- ------------------------ 9.7/25.2 MB 10.0 MB/s eta 0:00:02\n",
      "   --------------- ------------------------ 10.1/25.2 MB 9.9 MB/s eta 0:00:02\n",
      "   ---------------- ----------------------- 10.4/25.2 MB 9.5 MB/s eta 0:00:02\n",
      "   ---------------- ----------------------- 10.7/25.2 MB 9.2 MB/s eta 0:00:02\n",
      "   ----------------- ---------------------- 11.0/25.2 MB 9.0 MB/s eta 0:00:02\n",
      "   ----------------- ---------------------- 11.3/25.2 MB 8.6 MB/s eta 0:00:02\n",
      "   ------------------ --------------------- 11.6/25.2 MB 8.3 MB/s eta 0:00:02\n",
      "   ------------------ --------------------- 11.9/25.2 MB 8.1 MB/s eta 0:00:02\n",
      "   ------------------- -------------------- 12.2/25.2 MB 7.8 MB/s eta 0:00:02\n",
      "   ------------------- -------------------- 12.6/25.2 MB 7.5 MB/s eta 0:00:02\n",
      "   -------------------- ------------------- 12.8/25.2 MB 7.4 MB/s eta 0:00:02\n",
      "   -------------------- ------------------- 13.1/25.2 MB 7.2 MB/s eta 0:00:02\n",
      "   --------------------- ------------------ 13.5/25.2 MB 6.9 MB/s eta 0:00:02\n",
      "   --------------------- ------------------ 13.8/25.2 MB 6.8 MB/s eta 0:00:02\n",
      "   ---------------------- ----------------- 14.2/25.2 MB 6.6 MB/s eta 0:00:02\n",
      "   ----------------------- ---------------- 14.6/25.2 MB 6.4 MB/s eta 0:00:02\n",
      "   ----------------------- ---------------- 14.9/25.2 MB 6.4 MB/s eta 0:00:02\n",
      "   ------------------------ --------------- 15.2/25.2 MB 6.4 MB/s eta 0:00:02\n",
      "   ------------------------ --------------- 15.6/25.2 MB 6.3 MB/s eta 0:00:02\n",
      "   ------------------------- -------------- 15.9/25.2 MB 6.2 MB/s eta 0:00:02\n",
      "   ------------------------- -------------- 16.3/25.2 MB 6.2 MB/s eta 0:00:02\n",
      "   -------------------------- ------------- 16.7/25.2 MB 6.2 MB/s eta 0:00:02\n",
      "   --------------------------- ------------ 17.1/25.2 MB 6.3 MB/s eta 0:00:02\n",
      "   --------------------------- ------------ 17.5/25.2 MB 6.4 MB/s eta 0:00:02\n",
      "   ---------------------------- ----------- 17.9/25.2 MB 6.5 MB/s eta 0:00:02\n",
      "   ---------------------------- ----------- 18.3/25.2 MB 6.7 MB/s eta 0:00:02\n",
      "   ----------------------------- ---------- 18.6/25.2 MB 6.8 MB/s eta 0:00:01\n",
      "   ------------------------------ --------- 19.0/25.2 MB 7.0 MB/s eta 0:00:01\n",
      "   ------------------------------ --------- 19.3/25.2 MB 7.0 MB/s eta 0:00:01\n",
      "   ------------------------------- -------- 19.7/25.2 MB 7.2 MB/s eta 0:00:01\n",
      "   ------------------------------- -------- 20.1/25.2 MB 7.2 MB/s eta 0:00:01\n",
      "   -------------------------------- ------- 20.5/25.2 MB 7.4 MB/s eta 0:00:01\n",
      "   --------------------------------- ------ 21.0/25.2 MB 7.5 MB/s eta 0:00:01\n",
      "   --------------------------------- ------ 21.4/25.2 MB 7.6 MB/s eta 0:00:01\n",
      "   ---------------------------------- ----- 21.8/25.2 MB 7.7 MB/s eta 0:00:01\n",
      "   ----------------------------------- ---- 22.3/25.2 MB 7.8 MB/s eta 0:00:01\n",
      "   ------------------------------------ --- 22.7/25.2 MB 7.9 MB/s eta 0:00:01\n",
      "   ------------------------------------ --- 23.2/25.2 MB 8.1 MB/s eta 0:00:01\n",
      "   ------------------------------------- -- 23.7/25.2 MB 8.1 MB/s eta 0:00:01\n",
      "   -------------------------------------- - 24.1/25.2 MB 8.3 MB/s eta 0:00:01\n",
      "   ---------------------------------------  24.6/25.2 MB 8.4 MB/s eta 0:00:01\n",
      "   ---------------------------------------  25.1/25.2 MB 8.5 MB/s eta 0:00:01\n",
      "   ---------------------------------------  25.2/25.2 MB 8.5 MB/s eta 0:00:01\n",
      "   ---------------------------------------  25.2/25.2 MB 8.5 MB/s eta 0:00:01\n",
      "   ---------------------------------------- 25.2/25.2 MB 7.9 MB/s eta 0:00:00\n",
      "Downloading pydeck-0.9.1-py2.py3-none-any.whl (6.9 MB)\n",
      "   ---------------------------------------- 0.0/6.9 MB ? eta -:--:--\n",
      "   --- ------------------------------------ 0.5/6.9 MB 11.1 MB/s eta 0:00:01\n",
      "   ----- ---------------------------------- 0.9/6.9 MB 9.7 MB/s eta 0:00:01\n",
      "   ------- -------------------------------- 1.3/6.9 MB 10.6 MB/s eta 0:00:01\n",
      "   ---------- ----------------------------- 1.8/6.9 MB 10.4 MB/s eta 0:00:01\n",
      "   ------------- -------------------------- 2.3/6.9 MB 9.8 MB/s eta 0:00:01\n",
      "   ---------------- ----------------------- 2.8/6.9 MB 10.6 MB/s eta 0:00:01\n",
      "   ------------------- -------------------- 3.3/6.9 MB 10.1 MB/s eta 0:00:01\n",
      "   ---------------------- ----------------- 3.8/6.9 MB 10.6 MB/s eta 0:00:01\n",
      "   ------------------------ --------------- 4.2/6.9 MB 9.9 MB/s eta 0:00:01\n",
      "   --------------------------- ------------ 4.7/6.9 MB 10.0 MB/s eta 0:00:01\n",
      "   ------------------------------ --------- 5.2/6.9 MB 10.1 MB/s eta 0:00:01\n",
      "   --------------------------------- ------ 5.8/6.9 MB 10.5 MB/s eta 0:00:01\n",
      "   ------------------------------------ --- 6.3/6.9 MB 10.3 MB/s eta 0:00:01\n",
      "   ---------------------------------------  6.8/6.9 MB 10.1 MB/s eta 0:00:01\n",
      "   ---------------------------------------- 6.9/6.9 MB 9.8 MB/s eta 0:00:00\n",
      "Downloading tenacity-9.0.0-py3-none-any.whl (28 kB)\n",
      "Downloading toml-0.10.2-py2.py3-none-any.whl (16 kB)\n",
      "Downloading watchdog-6.0.0-py3-none-win_amd64.whl (79 kB)\n",
      "   ---------------------------------------- 0.0/79.1 kB ? eta -:--:--\n",
      "   ---------------------------------------- 79.1/79.1 kB ? eta 0:00:00\n",
      "Downloading gitdb-4.0.12-py3-none-any.whl (62 kB)\n",
      "   ---------------------------------------- 0.0/62.8 kB ? eta -:--:--\n",
      "   ---------------------------------------- 62.8/62.8 kB 3.3 MB/s eta 0:00:00\n",
      "Downloading narwhals-1.25.2-py3-none-any.whl (305 kB)\n",
      "   ---------------------------------------- 0.0/305.5 kB ? eta -:--:--\n",
      "   --------------------------------------- 305.5/305.5 kB 18.5 MB/s eta 0:00:00\n",
      "Downloading smmap-5.0.2-py3-none-any.whl (24 kB)\n",
      "Installing collected packages: watchdog, toml, tenacity, smmap, pyarrow, narwhals, cachetools, blinker, pydeck, gitdb, gitpython, altair, streamlit\n",
      "Successfully installed altair-5.5.0 blinker-1.9.0 cachetools-5.5.1 gitdb-4.0.12 gitpython-3.1.44 narwhals-1.25.2 pyarrow-19.0.0 pydeck-0.9.1 smmap-5.0.2 streamlit-1.42.0 tenacity-9.0.0 toml-0.10.2 watchdog-6.0.0\n",
      "Note: you may need to restart the kernel to use updated packages.\n"
     ]
    },
    {
     "name": "stderr",
     "output_type": "stream",
     "text": [
      "DEPRECATION: Loading egg at c:\\program files\\python312\\lib\\site-packages\\vboxapi-1.0-py3.12.egg is deprecated. pip 24.3 will enforce this behaviour change. A possible replacement is to use pip for package installation. Discussion can be found at https://github.com/pypa/pip/issues/12330\n",
      "\n",
      "[notice] A new release of pip is available: 24.1.2 -> 25.0\n",
      "[notice] To update, run: python.exe -m pip install --upgrade pip\n"
     ]
    }
   ],
   "source": [
    "pip install streamlit\n"
   ]
  },
  {
   "cell_type": "code",
   "execution_count": 18,
   "metadata": {},
   "outputs": [
    {
     "name": "stderr",
     "output_type": "stream",
     "text": [
      "2025-02-07 12:49:44.057 WARNING streamlit.runtime.scriptrunner_utils.script_run_context: Thread 'MainThread': missing ScriptRunContext! This warning can be ignored when running in bare mode.\n",
      "2025-02-07 12:49:44.139 \n",
      "  \u001b[33m\u001b[1mWarning:\u001b[0m to view this Streamlit app on a browser, run it with the following\n",
      "  command:\n",
      "\n",
      "    streamlit run C:\\Users\\Rhea Dmello\\AppData\\Roaming\\Python\\Python312\\site-packages\\ipykernel_launcher.py [ARGUMENTS]\n",
      "2025-02-07 12:49:44.141 Thread 'MainThread': missing ScriptRunContext! This warning can be ignored when running in bare mode.\n",
      "2025-02-07 12:49:44.141 Thread 'MainThread': missing ScriptRunContext! This warning can be ignored when running in bare mode.\n",
      "2025-02-07 12:49:44.142 Thread 'MainThread': missing ScriptRunContext! This warning can be ignored when running in bare mode.\n",
      "2025-02-07 12:49:44.143 Thread 'MainThread': missing ScriptRunContext! This warning can be ignored when running in bare mode.\n",
      "2025-02-07 12:49:44.144 Thread 'MainThread': missing ScriptRunContext! This warning can be ignored when running in bare mode.\n",
      "2025-02-07 12:49:44.145 Thread 'MainThread': missing ScriptRunContext! This warning can be ignored when running in bare mode.\n",
      "2025-02-07 12:49:44.145 Thread 'MainThread': missing ScriptRunContext! This warning can be ignored when running in bare mode.\n",
      "2025-02-07 12:49:44.146 Thread 'MainThread': missing ScriptRunContext! This warning can be ignored when running in bare mode.\n",
      "2025-02-07 12:49:44.148 Thread 'MainThread': missing ScriptRunContext! This warning can be ignored when running in bare mode.\n",
      "2025-02-07 12:49:44.148 Session state does not function when running a script without `streamlit run`\n",
      "2025-02-07 12:49:44.149 Thread 'MainThread': missing ScriptRunContext! This warning can be ignored when running in bare mode.\n",
      "2025-02-07 12:49:44.149 Thread 'MainThread': missing ScriptRunContext! This warning can be ignored when running in bare mode.\n",
      "2025-02-07 12:49:44.151 Thread 'MainThread': missing ScriptRunContext! This warning can be ignored when running in bare mode.\n",
      "2025-02-07 12:49:44.151 Thread 'MainThread': missing ScriptRunContext! This warning can be ignored when running in bare mode.\n",
      "2025-02-07 12:49:44.152 Thread 'MainThread': missing ScriptRunContext! This warning can be ignored when running in bare mode.\n",
      "2025-02-07 12:49:44.153 Thread 'MainThread': missing ScriptRunContext! This warning can be ignored when running in bare mode.\n",
      "2025-02-07 12:49:44.153 Thread 'MainThread': missing ScriptRunContext! This warning can be ignored when running in bare mode.\n"
     ]
    }
   ],
   "source": [
    "import streamlit as st\n",
    "\n",
    "# Function to clean input text\n",
    "def clean_text_streamlit(text):\n",
    "    text = re.sub(r'http\\S+', '', text)  # Remove URLs\n",
    "    text = re.sub(r'[^a-zA-Z]', ' ', text)  # Remove special characters and numbers\n",
    "    text = text.lower()  # Convert to lowercase\n",
    "    text = text.split()  # Tokenize\n",
    "    lemmatizer = WordNetLemmatizer()\n",
    "    text = [lemmatizer.lemmatize(word) for word in text if word not in set(stopwords.words('english'))]\n",
    "    return ' '.join(text)\n",
    "\n",
    "# Streamlit App\n",
    "st.title(\"Emotion Detection from Text\")\n",
    "st.write(\"Enter a sentence to detect its emotion!\")\n",
    "\n",
    "user_input = st.text_area(\"Your Text\", \"I am feeling happy today!\")\n",
    "if st.button(\"Predict Emotion\"):\n",
    "    cleaned_input = clean_text_streamlit(user_input)\n",
    "    vectorized_input = vectorizer.transform([cleaned_input]).toarray()\n",
    "    prediction = label_encoder.inverse_transform(lr_model.predict(vectorized_input))\n",
    "    st.write(f\"Predicted Emotion: {prediction[0]}\")\n"
   ]
  },
  {
   "cell_type": "code",
   "execution_count": 26,
   "metadata": {},
   "outputs": [
    {
     "name": "stderr",
     "output_type": "stream",
     "text": [
      "[nltk_data] Downloading package stopwords to C:\\Users\\Rhea\n",
      "[nltk_data]     Dmello\\AppData\\Roaming\\nltk_data...\n",
      "[nltk_data]   Package stopwords is already up-to-date!\n",
      "[nltk_data] Downloading package wordnet to C:\\Users\\Rhea\n",
      "[nltk_data]     Dmello\\AppData\\Roaming\\nltk_data...\n",
      "[nltk_data]   Package wordnet is already up-to-date!\n"
     ]
    },
    {
     "name": "stdout",
     "output_type": "stream",
     "text": [
      "Model training complete and files saved!\n"
     ]
    }
   ],
   "source": [
    "import pandas as pd\n",
    "import re\n",
    "import nltk\n",
    "import pickle\n",
    "from sklearn.model_selection import train_test_split\n",
    "from sklearn.feature_extraction.text import TfidfVectorizer\n",
    "from sklearn.preprocessing import LabelEncoder\n",
    "from sklearn.linear_model import LogisticRegression\n",
    "from nltk.corpus import stopwords\n",
    "from nltk.stem import WordNetLemmatizer\n",
    "\n",
    "# Download necessary NLTK resources\n",
    "nltk.download('stopwords')\n",
    "nltk.download('wordnet')\n",
    "\n",
    "# Load dataset\n",
    "df = pd.read_csv(\"emotion_sentimen_dataset.csv\")  # Ensure file is in the working directory\n",
    "\n",
    "# Text cleaning function\n",
    "def clean_text(text):\n",
    "    text = re.sub(r'http\\S+', '', text)  # Remove URLs\n",
    "    text = re.sub(r'[^a-zA-Z]', ' ', text)  # Remove special characters and numbers\n",
    "    text = text.lower()  # Convert to lowercase\n",
    "    text = text.split()  # Tokenize\n",
    "    lemmatizer = WordNetLemmatizer()\n",
    "    text = [lemmatizer.lemmatize(word) for word in text if word not in set(stopwords.words('english'))]\n",
    "    return ' '.join(text)\n",
    "\n",
    "# Apply text cleaning\n",
    "df['cleaned_text'] = df['Emotion'].apply(clean_text)\n",
    "\n",
    "# Encode labels\n",
    "label_encoder = LabelEncoder()\n",
    "df['encoded_label'] = label_encoder.fit_transform(df['Emotion'])\n",
    "\n",
    "# Train-test split\n",
    "X_train, X_test, y_train, y_test = train_test_split(df['cleaned_text'], df['encoded_label'], test_size=0.2, random_state=42)\n",
    "\n",
    "# TF-IDF Vectorization with Bigrams\n",
    "vectorizer = TfidfVectorizer(ngram_range=(1,2), max_features=5000)  # Unigrams & Bigrams\n",
    "X_train_tfidf = vectorizer.fit_transform(X_train)\n",
    "X_test_tfidf = vectorizer.transform(X_test)\n",
    "\n",
    "# Train a Logistic Regression model\n",
    "lr_model = LogisticRegression()\n",
    "lr_model.fit(X_train_tfidf, y_train)\n",
    "\n",
    "# Save model, vectorizer, and label encoder\n",
    "pickle.dump(vectorizer, open(\"vectorizer.pkl\", \"wb\"))\n",
    "pickle.dump(lr_model, open(\"model.pkl\", \"wb\"))\n",
    "pickle.dump(label_encoder, open(\"label_encoder.pkl\", \"wb\"))\n",
    "\n",
    "print(\"Model training complete and files saved!\")\n",
    "\n"
   ]
  }
 ],
 "metadata": {
  "kernelspec": {
   "display_name": "Python 3",
   "language": "python",
   "name": "python3"
  },
  "language_info": {
   "codemirror_mode": {
    "name": "ipython",
    "version": 3
   },
   "file_extension": ".py",
   "mimetype": "text/x-python",
   "name": "python",
   "nbconvert_exporter": "python",
   "pygments_lexer": "ipython3",
   "version": "3.12.1"
  }
 },
 "nbformat": 4,
 "nbformat_minor": 2
}
